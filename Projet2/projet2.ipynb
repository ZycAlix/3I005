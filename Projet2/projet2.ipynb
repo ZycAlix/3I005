{
 "cells": [
  {
   "cell_type": "code",
   "execution_count": 35,
   "metadata": {},
   "outputs": [],
   "source": [
    "#DONNÉES \n",
    "#=============================================================\n",
    "\"\"\"set of alphabet\"\"\"\n",
    "alpha = ['A','C','D','E','F','G','H','I','K','L','M','N','P','Q','R','S','T','V','W','Y','-']\n",
    "\n",
    "\"\"\"Read a file with name and mode, return a list of lines\"\"\"\n",
    "def read_file(filename, mode):\n",
    "    f = open(filename,mode);\n",
    "    lines = f.readlines();\n",
    "    f.close();\n",
    "    return lines;\n",
    "\n",
    "\"\"\"Transform these lines of format FASTA into a list of seqs without sympol\"\"\"\n",
    "def get_seq(lines):\n",
    "    list_seqs = []\n",
    "    for line in lines:\n",
    "        if(line[0] == '>'):\n",
    "            print(\"It's a comment about the seq's name\");\n",
    "        else:\n",
    "            list_seqs.append(line.split());\n",
    "    return list_seqs;\n",
    "\n",
    "#def scanner(filename,)"
   ]
  },
  {
   "cell_type": "code",
   "execution_count": 38,
   "metadata": {
    "scrolled": true
   },
   "outputs": [],
   "source": [
    "#TEST\n",
    "#=============================================================\n",
    "\n",
    "#print(len(alpha))\n",
    "#lines_D = read_file(\"Dtrain.txt\",'r');\n",
    "#for line in lines_D:\n",
    "#    print(line);\n",
    "#lines_test1 = read_file(\"test_seq.txt\",'r');\n",
    "#for line in lines_test1:\n",
    "#    print(line)\n",
    "#print(lines_test1[1])\n",
    "#lines_test1[0][0]\n",
    "#len(lines_test1[1].split()[0]) # to confirm the seq'length without symbol\n",
    "#get_seq(lines_D)\n"
   ]
  },
  {
   "cell_type": "code",
   "execution_count": null,
   "metadata": {
    "collapsed": true
   },
   "outputs": [],
   "source": []
  }
 ],
 "metadata": {
  "kernelspec": {
   "display_name": "Python 3",
   "language": "python",
   "name": "python3"
  },
  "language_info": {
   "codemirror_mode": {
    "name": "ipython",
    "version": 3
   },
   "file_extension": ".py",
   "mimetype": "text/x-python",
   "name": "python",
   "nbconvert_exporter": "python",
   "pygments_lexer": "ipython3",
   "version": "3.6.4"
  }
 },
 "nbformat": 4,
 "nbformat_minor": 2
}
